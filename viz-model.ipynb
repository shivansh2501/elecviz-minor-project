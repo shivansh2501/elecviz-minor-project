version https://git-lfs.github.com/spec/v1
oid sha256:a233336edd9058c0f2c46aab52711cb7fdfa777138bcd8a3af225f7e718e06f5
size 130474279
